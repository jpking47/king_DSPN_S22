{
 "cells": [
  {
   "cell_type": "markdown",
   "metadata": {
    "id": "-2W919d2ZXp7"
   },
   "source": [
    "# Homework 2: Data tables"
   ]
  },
  {
   "cell_type": "markdown",
   "metadata": {
    "id": "L4nOzVhyZXqK"
   },
   "source": [
    "This homework assignment is designed to get you comfortable loading and working with data tables.\n",
    "\n",
    "You will need to download the **LexicalData_toclean.csv** file from the *Homework/lexDat* folder in the class GitHub repository. \n",
    "\n",
    "This data is a subset of the [English Lexicon Project database](https://elexicon.wustl.edu/). It provides the reaction times (in milliseconds) of many subjects as they are presented with letter strings and asked to decide, as quickly and as accurately as possible, whether the letter string is a word or not.\n",
    "\n",
    "*Data courtesy of Balota, D.A., Yap, M.J., Cortese, M.J., Hutchison, K.A., Kessler, B., Loftis, B., Neely, J.H., Nelson, D.L., Simpson, G.B., & Treiman, R. (2007). The English Lexicon Project. Behavior Research Methods, 39, 445-459.*"
   ]
  },
  {
   "cell_type": "markdown",
   "metadata": {
    "id": "9DsyBTB6ZXqN"
   },
   "source": [
    "---\n",
    "## 1. **Loading the Data (1 point)** \n",
    "\n",
    "Use the `setwd` and `read.csv` functions to load the data table from the **LexicalData_toclean.csv** file. Use the `head` function to look at the first few rows of the data. "
   ]
  },
  {
   "cell_type": "code",
   "execution_count": null,
   "metadata": {
    "id": "UnBVazYfZXqP"
   },
   "outputs": [],
   "source": [
    "setwd(\"~/Downloads\")\n",
    "read.csv(\"LexicalData_toclean.csv\")\n",
    "\n",
    "UncleanData <- read.csv(\"LexicalData_toclean.csv\")\n",
    "\n",
    "head(UncleanData)\n",
    "\n",
    "\n",
    "# If you are running this on your local computer, wet your workign directory to \n",
    "# the location of the lexDat data by setting your harddrive. Uncomment this line\n",
    "# and change the location to where it is on your computer. \n",
    "#setwd(\"~/Documents/PittCMU/G3/DSPN/DataSciencePsychNeuro/Homeworks/lexDat\")\n",
    "\n",
    "# If you are running this on Colab, then use something like this.\n",
    "# system(\"gdown --id 1wSvRPME5NimUDa0t3WqNSGzimLB1uNa7\")\n"
   ]
  },
  {
   "cell_type": "markdown",
   "metadata": {
    "id": "vk5oha2W4G7h"
   },
   "source": [
    "The **LexicalData_toclean.csv** file contains the variables `Sub_ID` (Subject ID), `Trial` (the trial number), `D_RT` (reaction time) and `D_Word` (the word they were responding to)."
   ]
  },
  {
   "cell_type": "markdown",
   "metadata": {
    "id": "SJuj14ZyZXqS"
   },
   "source": [
    "---\n",
    "## 2. **Data Cleansing (4 points)**\n",
    "\n",
    "There are three things we want to do to make this data more useable:\n",
    "* Get rid of the commas in the reaction time values, and make this variable numeric (hint: check out the functions `gsub` and `as.numeric`).\n",
    "* Get rid of rows where the reaction times are missing (hint: you can use the `filter` function from `tidyverse`, but you'll need to load the library).\n",
    "* Make sure all of the reaction times are positive. \n",
    "\n",
    "Write code that will copy the data to a new variable and make the above changes. "
   ]
  },
  {
   "cell_type": "code",
   "execution_count": null,
   "metadata": {
    "id": "5pXIjADNZXqU"
   },
   "outputs": [],
   "source": [
    "# INSERT CODE HERE\n",
    "\n",
    "##First Action: Create a new variable that contains the values within D_RT as numeric and \n",
    "## without commas.\n",
    "\n",
    "New_D_RT <- as.numeric(gsub(\",\",\"\",UncleanData$D_RT))\n",
    "head(New_D_RT)\n",
    "\n",
    "##Replace the original D_RT values with the New_D_RT values within UncleanData;\n",
    "## Now, the column will have numerical values without commas.\n",
    "UncleanData$D_RT <- New_D_RT\n",
    "\n",
    "head(UncleanData)\n",
    "\n",
    "##Second Action: Begin by loading tidyverse.\n",
    "library(tidyverse)\n",
    "\n",
    "##Remove rows that have a NA (missing) value within the D_RT column.\n",
    "## Assign this altered frame to new variable Data_Without_Nans.\n",
    "Data_Without_Nans <- UncleanData %>%\n",
    "  na.omit(UncleanData$D_RT)\n",
    "\n",
    "print(Data_Without_Nans)\n",
    "\n",
    "##Third Action: Check if any reaction times (D_RT) are negative.  \n",
    "## Returns the sum of values in D_RT column that are negative.\n",
    "sum(Data_Without_Nans$D_RT < 0)\n",
    "\n",
    "##Returns the sum of values in D_RT column that equal zero.\n",
    "sum(Data_Without_Nans$D_RT == 0)\n",
    "\n",
    "\n"
   ]
  },
  {
   "cell_type": "markdown",
   "metadata": {
    "id": "a3tOGnZL5E9S"
   },
   "source": [
    "For each of the three actions above, is it addressing a data anomaly (as described in the Müller reading)? If so, name the *type* of anomaly it's addressing. "
   ]
  },
  {
   "cell_type": "markdown",
   "metadata": {
    "id": "6CvlJZOK5qx0"
   },
   "source": [
    "> *Write your response here.*\n",
    "> * First action: This action addresses a syntactic anomaly by altering the data type of the values in the column.\n",
    "> * Second action: This action addresses a coverage error by removing rows with missing values.\n",
    "> * Third action: This action addresses a semantic anomaly by resolving a constraint violation; reaction times must be positive."
   ]
  },
  {
   "cell_type": "markdown",
   "metadata": {
    "id": "AX4B1CxyZXqX"
   },
   "source": [
    "---\n",
    "## 3. **Data Manipulation with Tidyverse (4 points)**\n",
    "\n",
    "Now let's use `tidyverse` functions to play around with this data a bit. Use the piping operator (`%>%`) in both of these code cells. \n",
    "\n",
    "First, let's get some useful summary **statistics** using `summarise`. Output a table that tells us how many observations there are in the data set, as well as the mean and standard deviation of the reaction times."
   ]
  },
  {
   "cell_type": "code",
   "execution_count": null,
   "metadata": {
    "id": "S_DJDsUzZXqY"
   },
   "outputs": [],
   "source": [
    "\n",
    "##Output a table that displays the total number of observations (under 'n'),\n",
    "## the mean response time (D_RT) and sd of the response time (D_RT).\n",
    "Data_Without_Nans %>%\n",
    "  summarise(total_observations = count(Data_Without_Nans), mean_response = mean(D_RT), sd_response = sd(D_RT))\n"
   ]
  },
  {
   "cell_type": "markdown",
   "metadata": {
    "id": "RgKbS2AqIDQ-"
   },
   "source": [
    "Now, we'll use `mutate` to re-number the trials, starting from 0 instead of 1. Make a new variable that is equal to the `Trial` variable minus one. "
   ]
  },
  {
   "cell_type": "code",
   "execution_count": null,
   "metadata": {
    "id": "ejQvUAZRZXqd"
   },
   "outputs": [],
   "source": [
    "\n",
    "##Within Data_Without_Nans, make a new column where each value is \n",
    "## the corresponding Trial value minus 1.\n",
    "Data_Without_Nans %>%\n",
    "  mutate(new_trial = Trial - 1)\n",
    "\n",
    "##Add the new variable new_trial to the data frame Data_Without Nans.\n",
    "Data_Without_Nans$new_trial = Data_Without_Nans$Trial - 1\n"
   ]
  },
  {
   "cell_type": "markdown",
   "metadata": {
    "id": "MSV81LJGMCjs"
   },
   "source": [
    "---\n",
    "## 4. **Plotting Data (1 point)**\n",
    "\n",
    "Use the `plot()` function to visualize the data, in a way that helps you see if there's a relationship between `D_RT` and your new trial variable."
   ]
  },
  {
   "cell_type": "code",
   "execution_count": null,
   "metadata": {
    "id": "AA8f06KzM3Bg"
   },
   "outputs": [],
   "source": [
    "##Make a quick scatter plot where x=new_trial, y=D_RT, and the \n",
    "## data source is Data_Without_Nans.\n",
    "qplot(new_trial,D_RT,data = Data_Without_Nans)"
   ]
  },
  {
   "cell_type": "markdown",
   "metadata": {
    "id": "2slWzsoYGuLt"
   },
   "source": [
    "That's all for Homework 2! When you are finished, save the notebook as Homework2.ipynb, push it to your class GitHub repository (the one you made for Homework 1) and send the instructors a link to your notebook via Canvas. You can send messages via Canvas by clicking \"Inbox\" on the left and then pressing the icon with a pencil inside a square."
   ]
  },
  {
   "cell_type": "markdown",
   "metadata": {
    "id": "C4MPECMmZXqe"
   },
   "source": [
    "**DUE:** 5pm EST, Feb 14, 2022"
   ]
  },
  {
   "cell_type": "markdown",
   "metadata": {
    "id": "r9GUofXN4BVy"
   },
   "source": [
    "**IMPORTANT** Did you collaborate with anyone on this assignment? If so, list their names here. \n",
    "> *Marc Levesque*"
   ]
  }
 ],
 "metadata": {
  "colab": {
   "collapsed_sections": [],
   "name": "Homework2.ipynb",
   "provenance": []
  },
  "kernelspec": {
   "display_name": "R",
   "language": "R",
   "name": "ir"
  },
  "language_info": {
   "codemirror_mode": "r",
   "file_extension": ".r",
   "mimetype": "text/x-r-source",
   "name": "R",
   "pygments_lexer": "r",
   "version": "4.1.2"
  }
 },
 "nbformat": 4,
 "nbformat_minor": 1
}
