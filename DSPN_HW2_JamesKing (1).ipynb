{
 "cells": [
  {
   "cell_type": "code",
   "execution_count": 1,
   "id": "080b322c",
   "metadata": {},
   "outputs": [
    {
     "ename": "ERROR",
     "evalue": "Error in parse(text = x, srcfile = src): <text>:1:10: unexpected numeric constant\n1: Homework 2\n             ^\n",
     "output_type": "error",
     "traceback": [
      "Error in parse(text = x, srcfile = src): <text>:1:10: unexpected numeric constant\n1: Homework 2\n             ^\nTraceback:\n"
     ]
    }
   ],
   "source": [
    "#Homework 2: Data tables\n",
    "#This homework assignment is designed to get you comfortable loading and working with data tables.\n",
    "\n",
    "#You will need to download the LexicalData_toclean.csv file from the Homework/lexDat folder in the class GitHub repository.\n",
    "\n",
    "#This data is a subset of the English Lexicon Project database. It provides the reaction times (in milliseconds) of many subjects as they are presented with letter strings and asked to decide, as quickly and as accurately as possible, whether the letter string is a word or not.\n",
    "\n",
    "#Data courtesy of Balota, D.A., Yap, M.J., Cortese, M.J., Hutchison, K.A., Kessler, B., Loftis, B., Neely, J.H., Nelson, D.L., Simpson, G.B., & Treiman, R. (2007). The English Lexicon Project. Behavior Research Methods, 39, 445-459."
   ]
  },
  {
   "cell_type": "code",
   "execution_count": null,
   "id": "73ecd596",
   "metadata": {},
   "outputs": [],
   "source": [
    "##1. Loading the Data (1 point)\n",
    "##Use the setwd and read.csv functions to load the data table from the LexicalData_toclean.csv file. Use the head function to look at the first few rows of the data."
   ]
  },
  {
   "cell_type": "code",
   "execution_count": null,
   "id": "e5c5a970",
   "metadata": {},
   "outputs": [],
   "source": [
    "setwd(\"~/Downloads\")\n",
    "read.csv(\"LexicalData_toclean.csv\")\n",
    "\n",
    "UncleanData <- read.csv(\"LexicalData_toclean.csv\")"
   ]
  },
  {
   "cell_type": "code",
   "execution_count": null,
   "id": "22168dd2",
   "metadata": {},
   "outputs": [],
   "source": [
    "##The LexicalData_toclean.csv file contains the variables Sub_ID (Subject ID), Trial (the trial number), D_RT (reaction time) and D_Word (the word they were responding to)."
   ]
  },
  {
   "cell_type": "code",
   "execution_count": null,
   "id": "5a120d80",
   "metadata": {},
   "outputs": [],
   "source": [
    "#2. Data Cleansing (4 points)\n",
    "#There are three things we want to do to make this data more useable:\n",
    "\n",
    "#Get rid of the commas in the reaction time values, and make this variable numeric (hint: check out the functions gsub and as.numeric).\n",
    "#Get rid of rows where the reaction times are missing (hint: you can use the filter function from tidyverse, but you'll need to load the library).\n",
    "#Make sure all of the reaction times are positive.\n",
    "#Write code that will copy the data to a new variable and make the above changes."
   ]
  },
  {
   "cell_type": "code",
   "execution_count": null,
   "id": "238d1e17",
   "metadata": {},
   "outputs": [],
   "source": [
    "##First Action: Create a new variable that contains the values within D_RT as numeric and \n",
    "## without commas.\n",
    "\n",
    "New_D_RT <- as.numeric(gsub(\",\",\"\",UncleanData$D_RT))\n",
    "head(New_D_RT)\n",
    "\n",
    "##Replace the original D_RT values with the New_D_RT values within UncleanData;\n",
    "## Now, the column will have numerical values without commas.\n",
    "UncleanData$D_RT <- New_D_RT\n",
    "\n",
    "head(UncleanData)\n",
    "\n",
    "##Second Action: Begin by loading tidyverse.\n",
    "library(tidyverse)\n",
    "\n",
    "##Check if there are missing values in UncleanData.  This looks quite messy though.\n",
    "is.na(UncleanData)\n",
    "\n",
    "##Remove rows that have a NA (missing) value within the D_RT column.\n",
    "## Assign this altered frame to new variable Data_Without_Nans.\n",
    "Data_Without_Nans <- UncleanData %>%\n",
    "  na.omit(UncleanData$D_RT)\n",
    "\n",
    "print(Data_Without_Nans)\n",
    "\n",
    "##Third Action: Check if any reaction times (D_RT) are negative.  \n",
    "## Returns the sum of values in D_RT column that are negative.\n",
    "sum(Data_Without_Nans$D_RT < 0)\n",
    "\n",
    "##Returns the sum of values in D_RT column that equal zero.\n",
    "sum(Data_Without_Nans$D_RT == 0)"
   ]
  },
  {
   "cell_type": "code",
   "execution_count": null,
   "id": "34ab1a83",
   "metadata": {},
   "outputs": [],
   "source": [
    "#For each of the three actions above, is it addressing a data anomaly (as described in the Müller reading)? If so, name the type of anomaly it's addressing.\n",
    "\n",
    "#Write your response here.\n",
    "\n",
    "#First action: This action addresses a syntactic anomaly by altering the data type of the values in the column.\n",
    "#Second action: Semantic anomaly.\n",
    "#Third action: Would address a syntactic anomaly if there were erroneously negative reaction times."
   ]
  },
  {
   "cell_type": "code",
   "execution_count": null,
   "id": "4526a6a8",
   "metadata": {},
   "outputs": [],
   "source": [
    "##3. Data Manipulation with Tidyverse (4 points)\n",
    "##Now let's use tidyverse functions to play around with this data a bit. Use the piping operator (%>%) in both of these code cells.\n",
    "\n",
    "#First, let's get some useful summary statistics using summarise. Output a table that tells us how many observations there are in the data set, as well as the mean and standard deviation of the reaction times."
   ]
  },
  {
   "cell_type": "code",
   "execution_count": null,
   "id": "009af5c5",
   "metadata": {},
   "outputs": [],
   "source": [
    "##Step 3\n",
    "\n",
    "##Output a table that displays the total number of observations (under 'n'),\n",
    "## the mean response time (D_RT) and sd of the response time (D_RT).\n",
    "Data_Without_Nans %>%\n",
    "  summarise(total_observations = count(Data_Without_Nans), mean_response = mean(D_RT), sd_response = sd(D_RT))\n",
    "  "
   ]
  },
  {
   "cell_type": "code",
   "execution_count": null,
   "id": "8f6d262c",
   "metadata": {},
   "outputs": [],
   "source": [
    "##Within Data_Without_Nans, make a new column where each value is \n",
    "## the corresponding Trial value minus 1.\n",
    "Data_Without_Nans %>%\n",
    "  mutate(new_trial = Trial - 1)\n",
    "\n",
    "##Add the new variable new_trial to the data frame Data_Without Nans.\n",
    "Data_Without_Nans$new_trial = Data_Without_Nans$Trial - 1"
   ]
  },
  {
   "cell_type": "code",
   "execution_count": null,
   "id": "3c26c3c8",
   "metadata": {},
   "outputs": [],
   "source": [
    "#4. Plotting Data (1 point)\n",
    "#Use the plot() function to visualize the data, in a way that helps you see if there's a relationship between D_RT and your new trial variable."
   ]
  },
  {
   "cell_type": "code",
   "execution_count": 2,
   "id": "97cf91a0",
   "metadata": {},
   "outputs": [
    {
     "ename": "ERROR",
     "evalue": "Error in qplot(D_RT, new_trial, data = Data_Without_Nans): could not find function \"qplot\"\n",
     "output_type": "error",
     "traceback": [
      "Error in qplot(D_RT, new_trial, data = Data_Without_Nans): could not find function \"qplot\"\nTraceback:\n"
     ]
    }
   ],
   "source": [
    "##Step 4\n",
    "\n",
    "##Make a quick scatter plot where x=D_RT, y=new_trial, and the \n",
    "## data source is Data_Without_Nans.\n",
    "qplot(D_RT,new_trial,data = Data_Without_Nans)"
   ]
  },
  {
   "cell_type": "code",
   "execution_count": null,
   "id": "d152b587",
   "metadata": {},
   "outputs": [],
   "source": []
  }
 ],
 "metadata": {
  "kernelspec": {
   "display_name": "R",
   "language": "R",
   "name": "ir"
  },
  "language_info": {
   "codemirror_mode": "r",
   "file_extension": ".r",
   "mimetype": "text/x-r-source",
   "name": "R",
   "pygments_lexer": "r",
   "version": "4.1.2"
  }
 },
 "nbformat": 4,
 "nbformat_minor": 5
}
