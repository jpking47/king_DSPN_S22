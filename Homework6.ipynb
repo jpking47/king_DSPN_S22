{
 "cells": [
  {
   "cell_type": "markdown",
   "metadata": {
    "id": "-2W919d2ZXp7"
   },
   "source": [
    "# Homework 6: Mixed effects"
   ]
  },
  {
   "cell_type": "markdown",
   "metadata": {
    "id": "L4nOzVhyZXqK"
   },
   "source": [
    "This homework assignment is designed to give you practice fitting and interpreting mixed effects models. \n",
    "\n",
    "We will be using the **LexicalData.csv** and **Items.csv** files from the *Homework/lexDat* folder in the class GitHub repository again. \n",
    "\n",
    "This data is a subset of the [English Lexicon Project database](https://elexicon.wustl.edu/). It provides the reaction times (in milliseconds) of many subjects as they are presented with letter strings and asked to decide, as quickly and as accurately as possible, whether the letter string is a word or not. The **Items.csv** provides characteristics of the words used, namely frequency (how common is this word?) and length (how many letters?). Unlike in the previous homework, there isn't any missing data in the **LexicalData.csv** file. \n",
    "\n",
    "*Data courtesy of Balota, D.A., Yap, M.J., Cortese, M.J., Hutchison, K.A., Kessler, B., Loftis, B., Neely, J.H., Nelson, D.L., Simpson, G.B., & Treiman, R. (2007). The English Lexicon Project. Behavior Research Methods, 39, 445-459.*"
   ]
  },
  {
   "cell_type": "markdown",
   "metadata": {
    "id": "9DsyBTB6ZXqN"
   },
   "source": [
    "---\n",
    "## 1. Loading and formatting the data (1 point)\n",
    "\n",
    "Load in data from the **LexicalData.csv** and **Items.csv** files. As in the previous homeworks, remove the commas from the reaction times and convert them from strings to numbers. Use `left_join` to add word characteristics `Length` and `Log_Freq_Hal` from **Items** to **LexicalData**. \n",
    "\n",
    "*Note: the `Freq_HAL` variable in **Items.csv** has a similar formatting issue, using string values with commas. We're not going to worry about fixing this since we're only using `Log_Freq_HAL`, which is the natural log transformation of `Freq_HAL`, in this homework.*"
   ]
  },
  {
   "cell_type": "code",
   "execution_count": 1,
   "metadata": {
    "colab": {
     "base_uri": "https://localhost:8080/",
     "height": 283
    },
    "executionInfo": {
     "elapsed": 3646,
     "status": "ok",
     "timestamp": 1615941478718,
     "user": {
      "displayName": "Patience Stevens",
      "photoUrl": "https://lh3.googleusercontent.com/a-/AOh14Gi-_9ZqhIFhAv1oMehJNvNuIKSTyrFQHzjxQKhx=s64",
      "userId": "01994571539255174942"
     },
     "user_tz": 240
    },
    "id": "UnBVazYfZXqP",
    "outputId": "ac15e53d-db29-431a-cefe-c4a81bee3024"
   },
   "outputs": [
    {
     "data": {
      "text/html": [
       "<table class=\"dataframe\">\n",
       "<caption>A data.frame: 6 × 7</caption>\n",
       "<thead>\n",
       "\t<tr><th></th><th scope=col>Sub_ID</th><th scope=col>Trial</th><th scope=col>Type</th><th scope=col>D_RT</th><th scope=col>D_Word</th><th scope=col>Outlier</th><th scope=col>D_Zscore</th></tr>\n",
       "\t<tr><th></th><th scope=col>&lt;int&gt;</th><th scope=col>&lt;int&gt;</th><th scope=col>&lt;int&gt;</th><th scope=col>&lt;chr&gt;</th><th scope=col>&lt;chr&gt;</th><th scope=col>&lt;chr&gt;</th><th scope=col>&lt;dbl&gt;</th></tr>\n",
       "</thead>\n",
       "<tbody>\n",
       "\t<tr><th scope=row>1</th><td>157</td><td>1</td><td>1</td><td>710  </td><td>browse     </td><td>false</td><td>-0.437</td></tr>\n",
       "\t<tr><th scope=row>2</th><td> 67</td><td>1</td><td>1</td><td>1,094</td><td>refrigerant</td><td>false</td><td> 0.825</td></tr>\n",
       "\t<tr><th scope=row>3</th><td>120</td><td>1</td><td>1</td><td>587  </td><td>gaining    </td><td>false</td><td>-0.645</td></tr>\n",
       "\t<tr><th scope=row>4</th><td> 21</td><td>1</td><td>1</td><td>984  </td><td>cheerless  </td><td>false</td><td> 0.025</td></tr>\n",
       "\t<tr><th scope=row>5</th><td>236</td><td>1</td><td>1</td><td>577  </td><td>pattered   </td><td>false</td><td>-0.763</td></tr>\n",
       "\t<tr><th scope=row>6</th><td>236</td><td>2</td><td>1</td><td>715  </td><td>conjures   </td><td>false</td><td>-0.364</td></tr>\n",
       "</tbody>\n",
       "</table>\n"
      ],
      "text/latex": [
       "A data.frame: 6 × 7\n",
       "\\begin{tabular}{r|lllllll}\n",
       "  & Sub\\_ID & Trial & Type & D\\_RT & D\\_Word & Outlier & D\\_Zscore\\\\\n",
       "  & <int> & <int> & <int> & <chr> & <chr> & <chr> & <dbl>\\\\\n",
       "\\hline\n",
       "\t1 & 157 & 1 & 1 & 710   & browse      & false & -0.437\\\\\n",
       "\t2 &  67 & 1 & 1 & 1,094 & refrigerant & false &  0.825\\\\\n",
       "\t3 & 120 & 1 & 1 & 587   & gaining     & false & -0.645\\\\\n",
       "\t4 &  21 & 1 & 1 & 984   & cheerless   & false &  0.025\\\\\n",
       "\t5 & 236 & 1 & 1 & 577   & pattered    & false & -0.763\\\\\n",
       "\t6 & 236 & 2 & 1 & 715   & conjures    & false & -0.364\\\\\n",
       "\\end{tabular}\n"
      ],
      "text/markdown": [
       "\n",
       "A data.frame: 6 × 7\n",
       "\n",
       "| <!--/--> | Sub_ID &lt;int&gt; | Trial &lt;int&gt; | Type &lt;int&gt; | D_RT &lt;chr&gt; | D_Word &lt;chr&gt; | Outlier &lt;chr&gt; | D_Zscore &lt;dbl&gt; |\n",
       "|---|---|---|---|---|---|---|---|\n",
       "| 1 | 157 | 1 | 1 | 710   | browse      | false | -0.437 |\n",
       "| 2 |  67 | 1 | 1 | 1,094 | refrigerant | false |  0.825 |\n",
       "| 3 | 120 | 1 | 1 | 587   | gaining     | false | -0.645 |\n",
       "| 4 |  21 | 1 | 1 | 984   | cheerless   | false |  0.025 |\n",
       "| 5 | 236 | 1 | 1 | 577   | pattered    | false | -0.763 |\n",
       "| 6 | 236 | 2 | 1 | 715   | conjures    | false | -0.364 |\n",
       "\n"
      ],
      "text/plain": [
       "  Sub_ID Trial Type D_RT  D_Word      Outlier D_Zscore\n",
       "1 157    1     1    710   browse      false   -0.437  \n",
       "2  67    1     1    1,094 refrigerant false    0.825  \n",
       "3 120    1     1    587   gaining     false   -0.645  \n",
       "4  21    1     1    984   cheerless   false    0.025  \n",
       "5 236    1     1    577   pattered    false   -0.763  \n",
       "6 236    2     1    715   conjures    false   -0.364  "
      ]
     },
     "metadata": {},
     "output_type": "display_data"
    },
    {
     "data": {
      "text/html": [
       "<table class=\"dataframe\">\n",
       "<caption>A data.frame: 6 × 5</caption>\n",
       "<thead>\n",
       "\t<tr><th></th><th scope=col>Occurrences</th><th scope=col>Word</th><th scope=col>Length</th><th scope=col>Freq_HAL</th><th scope=col>Log_Freq_HAL</th></tr>\n",
       "\t<tr><th></th><th scope=col>&lt;int&gt;</th><th scope=col>&lt;chr&gt;</th><th scope=col>&lt;int&gt;</th><th scope=col>&lt;chr&gt;</th><th scope=col>&lt;dbl&gt;</th></tr>\n",
       "</thead>\n",
       "<tbody>\n",
       "\t<tr><th scope=row>1</th><td>1</td><td>synergistic</td><td>11</td><td>284  </td><td>5.649</td></tr>\n",
       "\t<tr><th scope=row>2</th><td>1</td><td>synonymous </td><td>10</td><td>951  </td><td>6.858</td></tr>\n",
       "\t<tr><th scope=row>3</th><td>1</td><td>syntactical</td><td>11</td><td>114  </td><td>4.736</td></tr>\n",
       "\t<tr><th scope=row>4</th><td>1</td><td>synthesis  </td><td> 9</td><td>6,742</td><td>8.816</td></tr>\n",
       "\t<tr><th scope=row>5</th><td>1</td><td>synthesized</td><td>11</td><td>2,709</td><td>7.904</td></tr>\n",
       "\t<tr><th scope=row>6</th><td>1</td><td>synthesizer</td><td>11</td><td>1,390</td><td>7.237</td></tr>\n",
       "</tbody>\n",
       "</table>\n"
      ],
      "text/latex": [
       "A data.frame: 6 × 5\n",
       "\\begin{tabular}{r|lllll}\n",
       "  & Occurrences & Word & Length & Freq\\_HAL & Log\\_Freq\\_HAL\\\\\n",
       "  & <int> & <chr> & <int> & <chr> & <dbl>\\\\\n",
       "\\hline\n",
       "\t1 & 1 & synergistic & 11 & 284   & 5.649\\\\\n",
       "\t2 & 1 & synonymous  & 10 & 951   & 6.858\\\\\n",
       "\t3 & 1 & syntactical & 11 & 114   & 4.736\\\\\n",
       "\t4 & 1 & synthesis   &  9 & 6,742 & 8.816\\\\\n",
       "\t5 & 1 & synthesized & 11 & 2,709 & 7.904\\\\\n",
       "\t6 & 1 & synthesizer & 11 & 1,390 & 7.237\\\\\n",
       "\\end{tabular}\n"
      ],
      "text/markdown": [
       "\n",
       "A data.frame: 6 × 5\n",
       "\n",
       "| <!--/--> | Occurrences &lt;int&gt; | Word &lt;chr&gt; | Length &lt;int&gt; | Freq_HAL &lt;chr&gt; | Log_Freq_HAL &lt;dbl&gt; |\n",
       "|---|---|---|---|---|---|\n",
       "| 1 | 1 | synergistic | 11 | 284   | 5.649 |\n",
       "| 2 | 1 | synonymous  | 10 | 951   | 6.858 |\n",
       "| 3 | 1 | syntactical | 11 | 114   | 4.736 |\n",
       "| 4 | 1 | synthesis   |  9 | 6,742 | 8.816 |\n",
       "| 5 | 1 | synthesized | 11 | 2,709 | 7.904 |\n",
       "| 6 | 1 | synthesizer | 11 | 1,390 | 7.237 |\n",
       "\n"
      ],
      "text/plain": [
       "  Occurrences Word        Length Freq_HAL Log_Freq_HAL\n",
       "1 1           synergistic 11     284      5.649       \n",
       "2 1           synonymous  10     951      6.858       \n",
       "3 1           syntactical 11     114      4.736       \n",
       "4 1           synthesis    9     6,742    8.816       \n",
       "5 1           synthesized 11     2,709    7.904       \n",
       "6 1           synthesizer 11     1,390    7.237       "
      ]
     },
     "metadata": {},
     "output_type": "display_data"
    },
    {
     "data": {
      "text/html": [
       "<style>\n",
       ".list-inline {list-style: none; margin:0; padding: 0}\n",
       ".list-inline>li {display: inline-block}\n",
       ".list-inline>li:not(:last-child)::after {content: \"\\00b7\"; padding: 0 .5ex}\n",
       "</style>\n",
       "<ol class=list-inline><li>710</li><li>1094</li><li>587</li><li>984</li><li>577</li><li>715</li></ol>\n"
      ],
      "text/latex": [
       "\\begin{enumerate*}\n",
       "\\item 710\n",
       "\\item 1094\n",
       "\\item 587\n",
       "\\item 984\n",
       "\\item 577\n",
       "\\item 715\n",
       "\\end{enumerate*}\n"
      ],
      "text/markdown": [
       "1. 710\n",
       "2. 1094\n",
       "3. 587\n",
       "4. 984\n",
       "5. 577\n",
       "6. 715\n",
       "\n",
       "\n"
      ],
      "text/plain": [
       "[1]  710 1094  587  984  577  715"
      ]
     },
     "metadata": {},
     "output_type": "display_data"
    },
    {
     "data": {
      "text/html": [
       "<table class=\"dataframe\">\n",
       "<caption>A data.frame: 6 × 7</caption>\n",
       "<thead>\n",
       "\t<tr><th></th><th scope=col>Sub_ID</th><th scope=col>Trial</th><th scope=col>Type</th><th scope=col>D_RT</th><th scope=col>D_Word</th><th scope=col>Outlier</th><th scope=col>D_Zscore</th></tr>\n",
       "\t<tr><th></th><th scope=col>&lt;int&gt;</th><th scope=col>&lt;int&gt;</th><th scope=col>&lt;int&gt;</th><th scope=col>&lt;dbl&gt;</th><th scope=col>&lt;chr&gt;</th><th scope=col>&lt;chr&gt;</th><th scope=col>&lt;dbl&gt;</th></tr>\n",
       "</thead>\n",
       "<tbody>\n",
       "\t<tr><th scope=row>1</th><td>157</td><td>1</td><td>1</td><td> 710</td><td>browse     </td><td>false</td><td>-0.437</td></tr>\n",
       "\t<tr><th scope=row>2</th><td> 67</td><td>1</td><td>1</td><td>1094</td><td>refrigerant</td><td>false</td><td> 0.825</td></tr>\n",
       "\t<tr><th scope=row>3</th><td>120</td><td>1</td><td>1</td><td> 587</td><td>gaining    </td><td>false</td><td>-0.645</td></tr>\n",
       "\t<tr><th scope=row>4</th><td> 21</td><td>1</td><td>1</td><td> 984</td><td>cheerless  </td><td>false</td><td> 0.025</td></tr>\n",
       "\t<tr><th scope=row>5</th><td>236</td><td>1</td><td>1</td><td> 577</td><td>pattered   </td><td>false</td><td>-0.763</td></tr>\n",
       "\t<tr><th scope=row>6</th><td>236</td><td>2</td><td>1</td><td> 715</td><td>conjures   </td><td>false</td><td>-0.364</td></tr>\n",
       "</tbody>\n",
       "</table>\n"
      ],
      "text/latex": [
       "A data.frame: 6 × 7\n",
       "\\begin{tabular}{r|lllllll}\n",
       "  & Sub\\_ID & Trial & Type & D\\_RT & D\\_Word & Outlier & D\\_Zscore\\\\\n",
       "  & <int> & <int> & <int> & <dbl> & <chr> & <chr> & <dbl>\\\\\n",
       "\\hline\n",
       "\t1 & 157 & 1 & 1 &  710 & browse      & false & -0.437\\\\\n",
       "\t2 &  67 & 1 & 1 & 1094 & refrigerant & false &  0.825\\\\\n",
       "\t3 & 120 & 1 & 1 &  587 & gaining     & false & -0.645\\\\\n",
       "\t4 &  21 & 1 & 1 &  984 & cheerless   & false &  0.025\\\\\n",
       "\t5 & 236 & 1 & 1 &  577 & pattered    & false & -0.763\\\\\n",
       "\t6 & 236 & 2 & 1 &  715 & conjures    & false & -0.364\\\\\n",
       "\\end{tabular}\n"
      ],
      "text/markdown": [
       "\n",
       "A data.frame: 6 × 7\n",
       "\n",
       "| <!--/--> | Sub_ID &lt;int&gt; | Trial &lt;int&gt; | Type &lt;int&gt; | D_RT &lt;dbl&gt; | D_Word &lt;chr&gt; | Outlier &lt;chr&gt; | D_Zscore &lt;dbl&gt; |\n",
       "|---|---|---|---|---|---|---|---|\n",
       "| 1 | 157 | 1 | 1 |  710 | browse      | false | -0.437 |\n",
       "| 2 |  67 | 1 | 1 | 1094 | refrigerant | false |  0.825 |\n",
       "| 3 | 120 | 1 | 1 |  587 | gaining     | false | -0.645 |\n",
       "| 4 |  21 | 1 | 1 |  984 | cheerless   | false |  0.025 |\n",
       "| 5 | 236 | 1 | 1 |  577 | pattered    | false | -0.763 |\n",
       "| 6 | 236 | 2 | 1 |  715 | conjures    | false | -0.364 |\n",
       "\n"
      ],
      "text/plain": [
       "  Sub_ID Trial Type D_RT D_Word      Outlier D_Zscore\n",
       "1 157    1     1     710 browse      false   -0.437  \n",
       "2  67    1     1    1094 refrigerant false    0.825  \n",
       "3 120    1     1     587 gaining     false   -0.645  \n",
       "4  21    1     1     984 cheerless   false    0.025  \n",
       "5 236    1     1     577 pattered    false   -0.763  \n",
       "6 236    2     1     715 conjures    false   -0.364  "
      ]
     },
     "metadata": {},
     "output_type": "display_data"
    },
    {
     "name": "stderr",
     "output_type": "stream",
     "text": [
      "── \u001b[1mAttaching packages\u001b[22m ─────────────────────────────────────── tidyverse 1.3.1 ──\n",
      "\n",
      "\u001b[32m✔\u001b[39m \u001b[34mggplot2\u001b[39m 3.3.5     \u001b[32m✔\u001b[39m \u001b[34mpurrr  \u001b[39m 0.3.4\n",
      "\u001b[32m✔\u001b[39m \u001b[34mtibble \u001b[39m 3.1.6     \u001b[32m✔\u001b[39m \u001b[34mdplyr  \u001b[39m 1.0.7\n",
      "\u001b[32m✔\u001b[39m \u001b[34mtidyr  \u001b[39m 1.1.4     \u001b[32m✔\u001b[39m \u001b[34mstringr\u001b[39m 1.4.0\n",
      "\u001b[32m✔\u001b[39m \u001b[34mreadr  \u001b[39m 2.1.1     \u001b[32m✔\u001b[39m \u001b[34mforcats\u001b[39m 0.5.1\n",
      "\n",
      "── \u001b[1mConflicts\u001b[22m ────────────────────────────────────────── tidyverse_conflicts() ──\n",
      "\u001b[31m✖\u001b[39m \u001b[34mdplyr\u001b[39m::\u001b[32mfilter()\u001b[39m masks \u001b[34mstats\u001b[39m::filter()\n",
      "\u001b[31m✖\u001b[39m \u001b[34mdplyr\u001b[39m::\u001b[32mlag()\u001b[39m    masks \u001b[34mstats\u001b[39m::lag()\n",
      "\n"
     ]
    },
    {
     "data": {
      "text/html": [
       "<table class=\"dataframe\">\n",
       "<caption>A data.frame: 6 × 11</caption>\n",
       "<thead>\n",
       "\t<tr><th></th><th scope=col>Sub_ID</th><th scope=col>Trial</th><th scope=col>Type</th><th scope=col>D_RT</th><th scope=col>D_Word</th><th scope=col>Outlier</th><th scope=col>D_Zscore</th><th scope=col>Occurrences</th><th scope=col>Length</th><th scope=col>Freq_HAL</th><th scope=col>Log_Freq_HAL</th></tr>\n",
       "\t<tr><th></th><th scope=col>&lt;int&gt;</th><th scope=col>&lt;int&gt;</th><th scope=col>&lt;int&gt;</th><th scope=col>&lt;dbl&gt;</th><th scope=col>&lt;chr&gt;</th><th scope=col>&lt;chr&gt;</th><th scope=col>&lt;dbl&gt;</th><th scope=col>&lt;int&gt;</th><th scope=col>&lt;int&gt;</th><th scope=col>&lt;chr&gt;</th><th scope=col>&lt;dbl&gt;</th></tr>\n",
       "</thead>\n",
       "<tbody>\n",
       "\t<tr><th scope=row>1</th><td>157</td><td>1</td><td>1</td><td> 710</td><td>browse     </td><td>false</td><td>-0.437</td><td>2</td><td> 6</td><td>7,016</td><td>8.856</td></tr>\n",
       "\t<tr><th scope=row>2</th><td> 67</td><td>1</td><td>1</td><td>1094</td><td>refrigerant</td><td>false</td><td> 0.825</td><td>3</td><td>11</td><td>104  </td><td>4.644</td></tr>\n",
       "\t<tr><th scope=row>3</th><td>120</td><td>1</td><td>1</td><td> 587</td><td>gaining    </td><td>false</td><td>-0.645</td><td>4</td><td> 7</td><td>4,039</td><td>8.304</td></tr>\n",
       "\t<tr><th scope=row>4</th><td> 21</td><td>1</td><td>1</td><td> 984</td><td>cheerless  </td><td>false</td><td> 0.025</td><td>4</td><td> 9</td><td>14   </td><td>2.639</td></tr>\n",
       "\t<tr><th scope=row>5</th><td>236</td><td>1</td><td>1</td><td> 577</td><td>pattered   </td><td>false</td><td>-0.763</td><td>4</td><td> 8</td><td>4    </td><td>1.386</td></tr>\n",
       "\t<tr><th scope=row>6</th><td>236</td><td>2</td><td>1</td><td> 715</td><td>conjures   </td><td>false</td><td>-0.364</td><td>4</td><td> 8</td><td>194  </td><td>5.268</td></tr>\n",
       "</tbody>\n",
       "</table>\n"
      ],
      "text/latex": [
       "A data.frame: 6 × 11\n",
       "\\begin{tabular}{r|lllllllllll}\n",
       "  & Sub\\_ID & Trial & Type & D\\_RT & D\\_Word & Outlier & D\\_Zscore & Occurrences & Length & Freq\\_HAL & Log\\_Freq\\_HAL\\\\\n",
       "  & <int> & <int> & <int> & <dbl> & <chr> & <chr> & <dbl> & <int> & <int> & <chr> & <dbl>\\\\\n",
       "\\hline\n",
       "\t1 & 157 & 1 & 1 &  710 & browse      & false & -0.437 & 2 &  6 & 7,016 & 8.856\\\\\n",
       "\t2 &  67 & 1 & 1 & 1094 & refrigerant & false &  0.825 & 3 & 11 & 104   & 4.644\\\\\n",
       "\t3 & 120 & 1 & 1 &  587 & gaining     & false & -0.645 & 4 &  7 & 4,039 & 8.304\\\\\n",
       "\t4 &  21 & 1 & 1 &  984 & cheerless   & false &  0.025 & 4 &  9 & 14    & 2.639\\\\\n",
       "\t5 & 236 & 1 & 1 &  577 & pattered    & false & -0.763 & 4 &  8 & 4     & 1.386\\\\\n",
       "\t6 & 236 & 2 & 1 &  715 & conjures    & false & -0.364 & 4 &  8 & 194   & 5.268\\\\\n",
       "\\end{tabular}\n"
      ],
      "text/markdown": [
       "\n",
       "A data.frame: 6 × 11\n",
       "\n",
       "| <!--/--> | Sub_ID &lt;int&gt; | Trial &lt;int&gt; | Type &lt;int&gt; | D_RT &lt;dbl&gt; | D_Word &lt;chr&gt; | Outlier &lt;chr&gt; | D_Zscore &lt;dbl&gt; | Occurrences &lt;int&gt; | Length &lt;int&gt; | Freq_HAL &lt;chr&gt; | Log_Freq_HAL &lt;dbl&gt; |\n",
       "|---|---|---|---|---|---|---|---|---|---|---|---|\n",
       "| 1 | 157 | 1 | 1 |  710 | browse      | false | -0.437 | 2 |  6 | 7,016 | 8.856 |\n",
       "| 2 |  67 | 1 | 1 | 1094 | refrigerant | false |  0.825 | 3 | 11 | 104   | 4.644 |\n",
       "| 3 | 120 | 1 | 1 |  587 | gaining     | false | -0.645 | 4 |  7 | 4,039 | 8.304 |\n",
       "| 4 |  21 | 1 | 1 |  984 | cheerless   | false |  0.025 | 4 |  9 | 14    | 2.639 |\n",
       "| 5 | 236 | 1 | 1 |  577 | pattered    | false | -0.763 | 4 |  8 | 4     | 1.386 |\n",
       "| 6 | 236 | 2 | 1 |  715 | conjures    | false | -0.364 | 4 |  8 | 194   | 5.268 |\n",
       "\n"
      ],
      "text/plain": [
       "  Sub_ID Trial Type D_RT D_Word      Outlier D_Zscore Occurrences Length\n",
       "1 157    1     1     710 browse      false   -0.437   2            6    \n",
       "2  67    1     1    1094 refrigerant false    0.825   3           11    \n",
       "3 120    1     1     587 gaining     false   -0.645   4            7    \n",
       "4  21    1     1     984 cheerless   false    0.025   4            9    \n",
       "5 236    1     1     577 pattered    false   -0.763   4            8    \n",
       "6 236    2     1     715 conjures    false   -0.364   4            8    \n",
       "  Freq_HAL Log_Freq_HAL\n",
       "1 7,016    8.856       \n",
       "2 104      4.644       \n",
       "3 4,039    8.304       \n",
       "4 14       2.639       \n",
       "5 4        1.386       \n",
       "6 194      5.268       "
      ]
     },
     "metadata": {},
     "output_type": "display_data"
    },
    {
     "data": {
      "text/html": [
       "<table class=\"dataframe\">\n",
       "<caption>A data.frame: 6 × 10</caption>\n",
       "<thead>\n",
       "\t<tr><th></th><th scope=col>Sub_ID</th><th scope=col>Trial</th><th scope=col>Type</th><th scope=col>D_RT</th><th scope=col>D_Word</th><th scope=col>Outlier</th><th scope=col>D_Zscore</th><th scope=col>Occurrences</th><th scope=col>Length</th><th scope=col>Log_Freq_HAL</th></tr>\n",
       "\t<tr><th></th><th scope=col>&lt;int&gt;</th><th scope=col>&lt;int&gt;</th><th scope=col>&lt;int&gt;</th><th scope=col>&lt;dbl&gt;</th><th scope=col>&lt;chr&gt;</th><th scope=col>&lt;chr&gt;</th><th scope=col>&lt;dbl&gt;</th><th scope=col>&lt;int&gt;</th><th scope=col>&lt;int&gt;</th><th scope=col>&lt;dbl&gt;</th></tr>\n",
       "</thead>\n",
       "<tbody>\n",
       "\t<tr><th scope=row>1</th><td>157</td><td>1</td><td>1</td><td> 710</td><td>browse     </td><td>false</td><td>-0.437</td><td>2</td><td> 6</td><td>8.856</td></tr>\n",
       "\t<tr><th scope=row>2</th><td> 67</td><td>1</td><td>1</td><td>1094</td><td>refrigerant</td><td>false</td><td> 0.825</td><td>3</td><td>11</td><td>4.644</td></tr>\n",
       "\t<tr><th scope=row>3</th><td>120</td><td>1</td><td>1</td><td> 587</td><td>gaining    </td><td>false</td><td>-0.645</td><td>4</td><td> 7</td><td>8.304</td></tr>\n",
       "\t<tr><th scope=row>4</th><td> 21</td><td>1</td><td>1</td><td> 984</td><td>cheerless  </td><td>false</td><td> 0.025</td><td>4</td><td> 9</td><td>2.639</td></tr>\n",
       "\t<tr><th scope=row>5</th><td>236</td><td>1</td><td>1</td><td> 577</td><td>pattered   </td><td>false</td><td>-0.763</td><td>4</td><td> 8</td><td>1.386</td></tr>\n",
       "\t<tr><th scope=row>6</th><td>236</td><td>2</td><td>1</td><td> 715</td><td>conjures   </td><td>false</td><td>-0.364</td><td>4</td><td> 8</td><td>5.268</td></tr>\n",
       "</tbody>\n",
       "</table>\n"
      ],
      "text/latex": [
       "A data.frame: 6 × 10\n",
       "\\begin{tabular}{r|llllllllll}\n",
       "  & Sub\\_ID & Trial & Type & D\\_RT & D\\_Word & Outlier & D\\_Zscore & Occurrences & Length & Log\\_Freq\\_HAL\\\\\n",
       "  & <int> & <int> & <int> & <dbl> & <chr> & <chr> & <dbl> & <int> & <int> & <dbl>\\\\\n",
       "\\hline\n",
       "\t1 & 157 & 1 & 1 &  710 & browse      & false & -0.437 & 2 &  6 & 8.856\\\\\n",
       "\t2 &  67 & 1 & 1 & 1094 & refrigerant & false &  0.825 & 3 & 11 & 4.644\\\\\n",
       "\t3 & 120 & 1 & 1 &  587 & gaining     & false & -0.645 & 4 &  7 & 8.304\\\\\n",
       "\t4 &  21 & 1 & 1 &  984 & cheerless   & false &  0.025 & 4 &  9 & 2.639\\\\\n",
       "\t5 & 236 & 1 & 1 &  577 & pattered    & false & -0.763 & 4 &  8 & 1.386\\\\\n",
       "\t6 & 236 & 2 & 1 &  715 & conjures    & false & -0.364 & 4 &  8 & 5.268\\\\\n",
       "\\end{tabular}\n"
      ],
      "text/markdown": [
       "\n",
       "A data.frame: 6 × 10\n",
       "\n",
       "| <!--/--> | Sub_ID &lt;int&gt; | Trial &lt;int&gt; | Type &lt;int&gt; | D_RT &lt;dbl&gt; | D_Word &lt;chr&gt; | Outlier &lt;chr&gt; | D_Zscore &lt;dbl&gt; | Occurrences &lt;int&gt; | Length &lt;int&gt; | Log_Freq_HAL &lt;dbl&gt; |\n",
       "|---|---|---|---|---|---|---|---|---|---|---|\n",
       "| 1 | 157 | 1 | 1 |  710 | browse      | false | -0.437 | 2 |  6 | 8.856 |\n",
       "| 2 |  67 | 1 | 1 | 1094 | refrigerant | false |  0.825 | 3 | 11 | 4.644 |\n",
       "| 3 | 120 | 1 | 1 |  587 | gaining     | false | -0.645 | 4 |  7 | 8.304 |\n",
       "| 4 |  21 | 1 | 1 |  984 | cheerless   | false |  0.025 | 4 |  9 | 2.639 |\n",
       "| 5 | 236 | 1 | 1 |  577 | pattered    | false | -0.763 | 4 |  8 | 1.386 |\n",
       "| 6 | 236 | 2 | 1 |  715 | conjures    | false | -0.364 | 4 |  8 | 5.268 |\n",
       "\n"
      ],
      "text/plain": [
       "  Sub_ID Trial Type D_RT D_Word      Outlier D_Zscore Occurrences Length\n",
       "1 157    1     1     710 browse      false   -0.437   2            6    \n",
       "2  67    1     1    1094 refrigerant false    0.825   3           11    \n",
       "3 120    1     1     587 gaining     false   -0.645   4            7    \n",
       "4  21    1     1     984 cheerless   false    0.025   4            9    \n",
       "5 236    1     1     577 pattered    false   -0.763   4            8    \n",
       "6 236    2     1     715 conjures    false   -0.364   4            8    \n",
       "  Log_Freq_HAL\n",
       "1 8.856       \n",
       "2 4.644       \n",
       "3 8.304       \n",
       "4 2.639       \n",
       "5 1.386       \n",
       "6 5.268       "
      ]
     },
     "metadata": {},
     "output_type": "display_data"
    }
   ],
   "source": [
    "# WRITE YOUR CODE HERE\n",
    "setwd(\"/Users/jjimmyk/downloads\")\n",
    "\n",
    "Lexical_Data <- read.csv(\"LexicalData.csv\")\n",
    "Items <- read.csv(\"Items.csv\")\n",
    "\n",
    "head(Lexical_Data)\n",
    "head(Items)\n",
    "\n",
    "##First Action: Create a new variable that contains the values within D_RT as numeric and \n",
    "## without commas.\n",
    "\n",
    "New_D_RT <- as.numeric(gsub(\",\",\"\",Lexical_Data$D_RT))\n",
    "head(New_D_RT)\n",
    "\n",
    "##Replace the original D_RT values with the New_D_RT values within UncleanData;\n",
    "## Now, the column will have numerical values without commas.\n",
    "Lexical_Data$D_RT <- New_D_RT\n",
    "\n",
    "head(Lexical_Data)\n",
    "\n",
    "library(tidyverse)\n",
    "\n",
    "combined_data <- left_join(Lexical_Data,Items, by=c(\"D_Word\"=\"Word\"))\n",
    "\n",
    "head(combined_data)\n",
    "\n",
    "combined_data <- subset(combined_data, select = -Freq_HAL)\n",
    "\n",
    "head(combined_data)\n"
   ]
  },
  {
   "cell_type": "markdown",
   "metadata": {
    "id": "bXy81Viishk1"
   },
   "source": [
    "---\n",
    "## 2. Model fitting (4 points)"
   ]
  },
  {
   "cell_type": "markdown",
   "metadata": {
    "id": "H7_gEgkbzFtU"
   },
   "source": [
    "First, fit a linear model with `Log_Freq_HAL` and `Length` as predictors, and `D_RT` as the output. Include an interaction term. Use `summary()` to look at the model output. "
   ]
  },
  {
   "cell_type": "code",
   "execution_count": 2,
   "metadata": {
    "colab": {
     "base_uri": "https://localhost:8080/",
     "height": 357
    },
    "executionInfo": {
     "elapsed": 218,
     "status": "ok",
     "timestamp": 1615950762843,
     "user": {
      "displayName": "Patience Stevens",
      "photoUrl": "https://lh3.googleusercontent.com/a-/AOh14Gi-_9ZqhIFhAv1oMehJNvNuIKSTyrFQHzjxQKhx=s64",
      "userId": "01994571539255174942"
     },
     "user_tz": 240
    },
    "id": "OIOIg-GRz4rN",
    "outputId": "34ebc9d5-f7dc-4bc0-bc4a-9ed6b8a38630"
   },
   "outputs": [
    {
     "data": {
      "text/plain": [
       "\n",
       "Call:\n",
       "lm(formula = D_RT ~ Log_Freq_HAL + Length, data = combined_data)\n",
       "\n",
       "Residuals:\n",
       "     Min       1Q   Median       3Q      Max \n",
       "-1047.98  -208.56   -86.46    92.10  3133.65 \n",
       "\n",
       "Coefficients:\n",
       "             Estimate Std. Error t value Pr(>|t|)    \n",
       "(Intercept)  765.7746     7.8141   98.00   <2e-16 ***\n",
       "Log_Freq_HAL -29.2445     0.6617  -44.20   <2e-16 ***\n",
       "Length        28.8180     0.6290   45.82   <2e-16 ***\n",
       "---\n",
       "Signif. codes:  0 ‘***’ 0.001 ‘**’ 0.01 ‘*’ 0.05 ‘.’ 0.1 ‘ ’ 1\n",
       "\n",
       "Residual standard error: 359.6 on 62607 degrees of freedom\n",
       "Multiple R-squared:  0.09246,\tAdjusted R-squared:  0.09243 \n",
       "F-statistic:  3189 on 2 and 62607 DF,  p-value: < 2.2e-16\n"
      ]
     },
     "metadata": {},
     "output_type": "display_data"
    }
   ],
   "source": [
    "# WRITE YOUR CODE HERE\n",
    "lm.fit = lm(D_RT~Log_Freq_HAL+Length, data = combined_data)\n",
    "\n",
    "summary(lm.fit)\n"
   ]
  },
  {
   "cell_type": "markdown",
   "metadata": {
    "id": "Pbeg_JrS3mwU"
   },
   "source": [
    "Now, install `lme4` using `install.packages()` and then load the library. "
   ]
  },
  {
   "cell_type": "code",
   "execution_count": 4,
   "metadata": {
    "colab": {
     "base_uri": "https://localhost:8080/"
    },
    "executionInfo": {
     "elapsed": 194755,
     "status": "ok",
     "timestamp": 1615942729586,
     "user": {
      "displayName": "Patience Stevens",
      "photoUrl": "https://lh3.googleusercontent.com/a-/AOh14Gi-_9ZqhIFhAv1oMehJNvNuIKSTyrFQHzjxQKhx=s64",
      "userId": "01994571539255174942"
     },
     "user_tz": 240
    },
    "id": "hFSnvvb_re2O",
    "outputId": "c834867c-929f-4792-ed8f-753f0b17d91a"
   },
   "outputs": [
    {
     "name": "stdout",
     "output_type": "stream",
     "text": [
      "\n",
      "The downloaded binary packages are in\n",
      "\t/var/folders/y9/6115vtcn20d2bkkn_2tztqfh0000gn/T//RtmpQBmAt8/downloaded_packages\n"
     ]
    }
   ],
   "source": [
    "# WRITE YOUR CODE HERE\n",
    "install.packages(\"lme4\")\n",
    "library(lme4)\n"
   ]
  },
  {
   "cell_type": "markdown",
   "metadata": {
    "id": "xZJns7xr41nW"
   },
   "source": [
    "Now fit a mixed effects model that includes the same predictors as the linear model above, as well as random intercepts for `Sub_ID` (i.e., cases where subject ID shifts the RT mean). Use `summary()` to look at the model output. "
   ]
  },
  {
   "cell_type": "code",
   "execution_count": 5,
   "metadata": {
    "colab": {
     "base_uri": "https://localhost:8080/",
     "height": 493
    },
    "executionInfo": {
     "elapsed": 899,
     "status": "ok",
     "timestamp": 1615950778119,
     "user": {
      "displayName": "Patience Stevens",
      "photoUrl": "https://lh3.googleusercontent.com/a-/AOh14Gi-_9ZqhIFhAv1oMehJNvNuIKSTyrFQHzjxQKhx=s64",
      "userId": "01994571539255174942"
     },
     "user_tz": 240
    },
    "id": "8kjwT0je57N7",
    "outputId": "6f4974ab-621d-4608-f3bf-113735ede739"
   },
   "outputs": [
    {
     "data": {
      "text/plain": [
       "Linear mixed model fit by REML ['lmerMod']\n",
       "Formula: D_RT ~ Log_Freq_HAL + Length + (1 | Sub_ID)\n",
       "   Data: combined_data\n",
       "\n",
       "REML criterion at convergence: 888465.9\n",
       "\n",
       "Scaled residuals: \n",
       "    Min      1Q  Median      3Q     Max \n",
       "-4.4813 -0.5551 -0.1609  0.3132 10.7066 \n",
       "\n",
       "Random effects:\n",
       " Groups   Name        Variance Std.Dev.\n",
       " Sub_ID   (Intercept) 46352    215.3   \n",
       " Residual             83286    288.6   \n",
       "Number of obs: 62610, groups:  Sub_ID, 299\n",
       "\n",
       "Fixed effects:\n",
       "             Estimate Std. Error t value\n",
       "(Intercept)   769.077     13.950   55.13\n",
       "Log_Freq_HAL  -30.157      0.533  -56.58\n",
       "Length         29.226      0.506   57.76\n",
       "\n",
       "Correlation of Fixed Effects:\n",
       "            (Intr) L_F_HA\n",
       "Log_Frq_HAL -0.352       \n",
       "Length      -0.379  0.365"
      ]
     },
     "metadata": {},
     "output_type": "display_data"
    }
   ],
   "source": [
    "# WRITE YOUR CODE HERE\n",
    "mixed_effects = lmer(D_RT ~ Log_Freq_HAL + Length + (1 | Sub_ID), data = combined_data)\n",
    "\n",
    "summary(mixed_effects)\n"
   ]
  },
  {
   "cell_type": "markdown",
   "metadata": {
    "id": "Vfb_ovk7JFGt"
   },
   "source": [
    "---\n",
    "## 3. Model assessment (4 points)"
   ]
  },
  {
   "cell_type": "markdown",
   "metadata": {
    "id": "r7B1Ux6RHGjy"
   },
   "source": [
    "Compare the three t-values for the fixed effects and the mixed effects models. How do they differ, and why? "
   ]
  },
  {
   "cell_type": "markdown",
   "metadata": {
    "id": "kCi5gYOeHo6m"
   },
   "source": [
    "> *Write your response here* \n",
    "> The larger the t value is (in absolute value), the less likely it is that the results are by chance. Considering the impact of subject ID (the difference in response time caused by individual, not-modeled traits) in the mixed effects model improves the reliability of the model, reducing its error and thus the residuals."
   ]
  },
  {
   "cell_type": "markdown",
   "metadata": {
    "id": "hukKG1AbGqXM"
   },
   "source": [
    "Use the Aikeke Information Criterion (AIC) to compare these two models. Which one is better? "
   ]
  },
  {
   "cell_type": "code",
   "execution_count": 6,
   "metadata": {
    "colab": {
     "base_uri": "https://localhost:8080/",
     "height": 159
    },
    "executionInfo": {
     "elapsed": 267,
     "status": "ok",
     "timestamp": 1615949607837,
     "user": {
      "displayName": "Patience Stevens",
      "photoUrl": "https://lh3.googleusercontent.com/a-/AOh14Gi-_9ZqhIFhAv1oMehJNvNuIKSTyrFQHzjxQKhx=s64",
      "userId": "01994571539255174942"
     },
     "user_tz": 240
    },
    "id": "KMDg8qb5FhJz",
    "outputId": "a148b06b-ec96-41e3-d13d-a439acbdf6d7"
   },
   "outputs": [
    {
     "data": {
      "text/html": [
       "<table class=\"dataframe\">\n",
       "<caption>A data.frame: 2 × 2</caption>\n",
       "<thead>\n",
       "\t<tr><th></th><th scope=col>df</th><th scope=col>AIC</th></tr>\n",
       "\t<tr><th></th><th scope=col>&lt;dbl&gt;</th><th scope=col>&lt;dbl&gt;</th></tr>\n",
       "</thead>\n",
       "<tbody>\n",
       "\t<tr><th scope=row>lm.fit</th><td>4</td><td>914591.2</td></tr>\n",
       "\t<tr><th scope=row>mixed_effects</th><td>5</td><td>888475.9</td></tr>\n",
       "</tbody>\n",
       "</table>\n"
      ],
      "text/latex": [
       "A data.frame: 2 × 2\n",
       "\\begin{tabular}{r|ll}\n",
       "  & df & AIC\\\\\n",
       "  & <dbl> & <dbl>\\\\\n",
       "\\hline\n",
       "\tlm.fit & 4 & 914591.2\\\\\n",
       "\tmixed\\_effects & 5 & 888475.9\\\\\n",
       "\\end{tabular}\n"
      ],
      "text/markdown": [
       "\n",
       "A data.frame: 2 × 2\n",
       "\n",
       "| <!--/--> | df &lt;dbl&gt; | AIC &lt;dbl&gt; |\n",
       "|---|---|---|\n",
       "| lm.fit | 4 | 914591.2 |\n",
       "| mixed_effects | 5 | 888475.9 |\n",
       "\n"
      ],
      "text/plain": [
       "              df AIC     \n",
       "lm.fit        4  914591.2\n",
       "mixed_effects 5  888475.9"
      ]
     },
     "metadata": {},
     "output_type": "display_data"
    }
   ],
   "source": [
    "# WRITE YOUR CODE HERE\n",
    "comparison = AIC(lm.fit, mixed_effects)\n",
    "comparison\n"
   ]
  },
  {
   "cell_type": "markdown",
   "metadata": {
    "id": "T4oTfsYmIvYt"
   },
   "source": [
    "> *Write your response here* \n",
    "> The smaller the AIC is, the better the fit. So, the mixed effects model has a better fit than the linear model."
   ]
  },
  {
   "cell_type": "markdown",
   "metadata": {
    "id": "ARF2PF2yLXkZ"
   },
   "source": [
    "---\n",
    "##  4. Reflection (1 point)\n",
    "\n",
    "What other random effects could be controlled for in this data set? \n",
    "\n",
    "> *Write your response here* \n",
    "> Controlling for subject age or time of day during which the test was conducted could potentially improve the fit of the model. To do this, we would need these data to be included in the dataset, though."
   ]
  },
  {
   "cell_type": "markdown",
   "metadata": {
    "id": "C4MPECMmZXqe"
   },
   "source": [
    "**DUE:** 5pm EST, March 25, 2022"
   ]
  },
  {
   "cell_type": "markdown",
   "metadata": {
    "id": "r9GUofXN4BVy"
   },
   "source": [
    "**IMPORTANT** Did you collaborate with anyone on this assignment? If so, list their names here. \n",
    "> Marc Levesque"
   ]
  }
 ],
 "metadata": {
  "colab": {
   "collapsed_sections": [],
   "name": "Homework6_solutions.ipynb",
   "provenance": []
  },
  "kernelspec": {
   "display_name": "R",
   "language": "R",
   "name": "ir"
  },
  "language_info": {
   "codemirror_mode": "r",
   "file_extension": ".r",
   "mimetype": "text/x-r-source",
   "name": "R",
   "pygments_lexer": "r",
   "version": "4.1.2"
  }
 },
 "nbformat": 4,
 "nbformat_minor": 1
}
